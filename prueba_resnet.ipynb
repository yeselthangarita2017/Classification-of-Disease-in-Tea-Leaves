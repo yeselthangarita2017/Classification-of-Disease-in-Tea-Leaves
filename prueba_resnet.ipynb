{
  "cells": [
    {
      "cell_type": "code",
      "execution_count": null,
      "metadata": {
        "id": "rOBAmT_-f-Y9"
      },
      "outputs": [],
      "source": [
        "import os\n",
        "import matplotlib.pyplot as plt\n",
        "import numpy as np\n",
        "from skimage import transform\n",
        "from skimage import io\n",
        "from skimage.color import rgb2gray\n",
        "import tqdm\n",
        "import IPython\n",
        "import copy\n",
        "import pickle\n",
        "\n",
        "import torch\n",
        "from torch import nn\n",
        "import torch.optim as optim\n",
        "from torchsummary import summary\n",
        "from torch.optim import lr_scheduler\n",
        "import torchvision\n",
        "import torchvision.transforms as transforms\n",
        "\n",
        "from torchvision.datasets import ImageFolder\n",
        "from torch.utils.data import DataLoader, random_split\n",
        "from torch.utils.data.sampler import WeightedRandomSampler"
      ]
    },
    {
      "cell_type": "code",
      "source": [
        "from google.colab import drive\n",
        "drive.mount('/content/drive')"
      ],
      "metadata": {
        "colab": {
          "base_uri": "https://localhost:8080/"
        },
        "id": "3hTBgbLbmunf",
        "outputId": "2592d767-f650-44aa-f299-ceecbe1b7d49"
      },
      "execution_count": null,
      "outputs": [
        {
          "output_type": "stream",
          "name": "stdout",
          "text": [
            "Mounted at /content/drive\n"
          ]
        }
      ]
    },
    {
      "cell_type": "code",
      "execution_count": null,
      "metadata": {
        "id": "Gju6qD46f-Y_"
      },
      "outputs": [],
      "source": [
        "full_dir = '/content/drive/MyDrive/Proyecto NMA/Resized images/tea_sickness_dataset_reduced/tea_sickness_dataset'\n",
        "train_dir = '/content/drive/MyDrive/Proyecto NMA/Split_dataset/data_train'\n",
        "val_dir = '/content/drive/MyDrive/Proyecto NMA/Split_dataset/data_val'\n",
        "test_dir = '/content/drive/MyDrive/Proyecto NMA/Split_dataset/data_test'\n",
        "class_names = os.listdir(full_dir)\n",
        "num_class = len(class_names)"
      ]
    },
    {
      "cell_type": "code",
      "execution_count": null,
      "metadata": {
        "id": "55JZLNpdf-ZB",
        "outputId": "56a717ba-ebcd-4aeb-f488-a9adb7078908",
        "colab": {
          "base_uri": "https://localhost:8080/"
        }
      },
      "outputs": [
        {
          "output_type": "stream",
          "name": "stdout",
          "text": [
            "Images in class Anthracnose: 99\n",
            "Images in class bird eye spot: 100\n",
            "Images in class brown blight: 113\n",
            "Images in class healthy: 73\n",
            "Images in class gray light: 98\n",
            "Images in class red leaf spot: 143\n",
            "Images in class white spot: 141\n",
            "Images in class algal leaf: 113\n",
            "Total images: 880\n"
          ]
        }
      ],
      "source": [
        "image_files_full = [[os.path.join(full_dir, class_name, x) \n",
        "               for x in os.listdir(os.path.join(full_dir, class_name))] \n",
        "               for class_name in class_names]\n",
        "image_file_full_list = []\n",
        "image_label_full_list = []\n",
        "for i, class_name in enumerate(class_names):\n",
        "    image_count = len(image_files_full[i])\n",
        "    print(f\"Images in class {class_name}:\",image_count)\n",
        "    image_file_full_list.extend(image_files_full[i])\n",
        "    image_label_full_list.extend([i] * len(image_files_full[i]))\n",
        "#image_file_list.remove('tea sickness dataset/red leaf spot/.DS_Store')\n",
        "num_total = len(image_label_full_list)\n",
        "print(\"Total images:\", num_total)\n",
        "# inicialmente 886"
      ]
    },
    {
      "cell_type": "code",
      "execution_count": null,
      "metadata": {
        "id": "LqAFtuHaf-ZC",
        "outputId": "87e728f9-ebd4-4c26-d74a-384eeeab5973",
        "colab": {
          "base_uri": "https://localhost:8080/"
        }
      },
      "outputs": [
        {
          "output_type": "stream",
          "name": "stdout",
          "text": [
            "Images in class Anthracnose: 60\n",
            "Images in class bird eye spot: 76\n",
            "Images in class brown blight: 71\n",
            "Images in class healthy: 45\n",
            "Images in class gray light: 77\n",
            "Images in class red leaf spot: 106\n",
            "Images in class white spot: 101\n",
            "Images in class algal leaf: 80\n",
            "Total train images: 616\n"
          ]
        }
      ],
      "source": [
        "image_files_train = [[os.path.join(train_dir, class_name, x) \n",
        "               for x in os.listdir(os.path.join(train_dir, class_name))] \n",
        "               for class_name in class_names]\n",
        "image_file_train_list = []\n",
        "image_label_train_list = []\n",
        "for i, class_name in enumerate(class_names):\n",
        "    image_count = len(image_files_train[i])\n",
        "    print(f\"Images in class {class_name}:\",image_count)\n",
        "    image_file_train_list.extend(image_files_train[i])\n",
        "    image_label_train_list.extend([i] * len(image_files_train[i]))\n",
        "#image_file_list.remove('tea sickness dataset/red leaf spot/.DS_Store')\n",
        "num_total = len(image_label_train_list)\n",
        "print(\"Total train images:\", num_total)"
      ]
    },
    {
      "cell_type": "code",
      "execution_count": null,
      "metadata": {
        "id": "thecNDprf-ZD",
        "outputId": "11eed496-841f-436f-a2a1-bfc2300d02e4",
        "colab": {
          "base_uri": "https://localhost:8080/"
        }
      },
      "outputs": [
        {
          "output_type": "stream",
          "name": "stdout",
          "text": [
            "Images in class Anthracnose: 20\n",
            "Images in class bird eye spot: 12\n",
            "Images in class brown blight: 20\n",
            "Images in class healthy: 14\n",
            "Images in class gray light: 11\n",
            "Images in class red leaf spot: 16\n",
            "Images in class white spot: 21\n",
            "Images in class algal leaf: 18\n",
            "Total val images: 132\n"
          ]
        }
      ],
      "source": [
        "image_files_val = [[os.path.join(val_dir, class_name, x) \n",
        "               for x in os.listdir(os.path.join(val_dir, class_name))] \n",
        "               for class_name in class_names]\n",
        "image_file_val_list = []\n",
        "image_label_val_list = []\n",
        "for i, class_name in enumerate(class_names):\n",
        "    image_count = len(image_files_val[i])\n",
        "    print(f\"Images in class {class_name}:\",image_count)\n",
        "    image_file_val_list.extend(image_files_val[i])\n",
        "    image_label_val_list.extend([i] * len(image_files_val[i]))\n",
        "#image_file_list.remove('tea sickness dataset/red leaf spot/.DS_Store')\n",
        "num_total = len(image_label_val_list)\n",
        "print(\"Total val images:\", num_total)"
      ]
    },
    {
      "cell_type": "code",
      "execution_count": null,
      "metadata": {
        "id": "KUdHGR2Of-ZE",
        "outputId": "a0eff998-3d3a-4a84-b62a-898ad123a5fd",
        "colab": {
          "base_uri": "https://localhost:8080/"
        }
      },
      "outputs": [
        {
          "output_type": "stream",
          "name": "stdout",
          "text": [
            "Images in class Anthracnose: 19\n",
            "Images in class bird eye spot: 12\n",
            "Images in class brown blight: 22\n",
            "Images in class healthy: 14\n",
            "Images in class gray light: 10\n",
            "Images in class red leaf spot: 21\n",
            "Images in class white spot: 19\n",
            "Images in class algal leaf: 15\n",
            "Total test images: 132\n"
          ]
        }
      ],
      "source": [
        "image_files_test = [[os.path.join(test_dir, class_name, x) \n",
        "               for x in os.listdir(os.path.join(test_dir, class_name))] \n",
        "               for class_name in class_names]\n",
        "image_file_test_list = []\n",
        "image_label_test_list = []\n",
        "for i, class_name in enumerate(class_names):\n",
        "    image_count = len(image_files_test[i])\n",
        "    print(f\"Images in class {class_name}:\",image_count)\n",
        "    image_file_test_list.extend(image_files_test[i])\n",
        "    image_label_test_list.extend([i] * len(image_files_test[i]))\n",
        "#image_file_list.remove('tea sickness dataset/red leaf spot/.DS_Store')\n",
        "num_total = len(image_label_test_list)\n",
        "print(\"Total test images:\", num_total)"
      ]
    },
    {
      "cell_type": "code",
      "execution_count": null,
      "metadata": {
        "id": "zfDCCjzUf-ZF"
      },
      "outputs": [],
      "source": [
        "train_data_transforms = transforms.Compose([\n",
        "        transforms.RandomResizedCrop(224),\n",
        "        transforms.RandomHorizontalFlip(),\n",
        "        transforms.RandomVerticalFlip(),\n",
        "        transforms.ToTensor(),\n",
        "        transforms.Normalize([0.485, 0.456, 0.406], [0.229, 0.224, 0.225])\n",
        "    ])\n",
        "\n",
        "val_test_data_transforms = transforms.Compose([\n",
        "        transforms.Resize(256),\n",
        "        transforms.CenterCrop(224),\n",
        "        transforms.ToTensor(),\n",
        "        transforms.Normalize([0.485, 0.456, 0.406], [0.229, 0.224, 0.225])\n",
        "    ])\n",
        "\n",
        "\n",
        "train_image_datasets = ImageFolder(train_dir, train_data_transforms)\n",
        "val_image_datasets = ImageFolder(val_dir, val_test_data_transforms)\n",
        "test_image_datasets = ImageFolder(test_dir, val_test_data_transforms)\n",
        "\n",
        "class_names = train_image_datasets.classes\n",
        "num_classes = len(class_names)"
      ]
    },
    {
      "cell_type": "code",
      "execution_count": null,
      "metadata": {
        "id": "_-d1oUlQf-ZG",
        "outputId": "d2cbc041-ae98-4a5c-a467-68a034b3513f",
        "colab": {
          "base_uri": "https://localhost:8080/"
        }
      },
      "outputs": [
        {
          "output_type": "stream",
          "name": "stdout",
          "text": [
            "Number of images per class (Train split):\n",
            "\tAnthracnose:\tn=60\tweight=0.016666666666666666\n",
            "\talgal leaf:\tn=80\tweight=0.0125\n",
            "\tbird eye spot:\tn=76\tweight=0.013157894736842105\n",
            "\tbrown blight:\tn=71\tweight=0.014084507042253521\n",
            "\tgray light:\tn=77\tweight=0.012987012987012988\n",
            "\thealthy:\tn=45\tweight=0.022222222222222223\n",
            "\tred leaf spot:\tn=106\tweight=0.009433962264150943\n",
            "\twhite spot:\tn=101\tweight=0.009900990099009901\n"
          ]
        }
      ],
      "source": [
        "#ys = np.array([y for _, y in train_image_datasets])\n",
        "with open(\"/content/drive/MyDrive/Proyecto NMA/Files_code/ys.p\", \"rb\" ) as f:\n",
        "\tys = pickle.load(f)\n",
        "counts = np.bincount(ys)\n",
        "label_weights = 1.0 / counts\n",
        "weights = label_weights[ys]\n",
        "\n",
        "print(\"Number of images per class (Train split):\")\n",
        "for c, n, w in zip(class_names, counts, label_weights):\n",
        "    print(f\"\\t{c}:\\tn={n}\\tweight={w}\")"
      ]
    },
    {
      "cell_type": "code",
      "execution_count": null,
      "metadata": {
        "id": "BMxAEFYPf-ZH",
        "colab": {
          "base_uri": "https://localhost:8080/"
        },
        "outputId": "4799f88f-a925-49d2-8e17-054fcf5e4afb"
      },
      "outputs": [
        {
          "output_type": "stream",
          "name": "stderr",
          "text": [
            "/usr/local/lib/python3.7/dist-packages/torch/utils/data/dataloader.py:560: UserWarning: This DataLoader will create 4 worker processes in total. Our suggested max number of worker in current system is 2, which is smaller than what this DataLoader is going to create. Please be aware that excessive worker creation might get DataLoader running slow or even freeze, lower the worker number to avoid potential slowness/freeze if necessary.\n",
            "  cpuset_checked))\n"
          ]
        }
      ],
      "source": [
        "# create a data loader with uniform sampling\n",
        "sampler = WeightedRandomSampler(weights, len(weights))\n",
        "# this data loader will serve 16 images in a \"mini-batch\" at a time\n",
        "train_dataloaders = DataLoader(train_image_datasets, batch_size=16, num_workers=4, \n",
        "                               drop_last=True, sampler=sampler)\n",
        "val_dataloaders = DataLoader(val_image_datasets, batch_size=32, shuffle=False)\n",
        "test_dataloaders = DataLoader(test_image_datasets, batch_size=32, shuffle=False)"
      ]
    },
    {
      "cell_type": "code",
      "execution_count": null,
      "metadata": {
        "id": "KUFlwM3pf-ZH"
      },
      "outputs": [],
      "source": [
        "DEVICE = torch.device('cuda:0' if torch.cuda.is_available() else 'cpu')"
      ]
    },
    {
      "cell_type": "code",
      "execution_count": null,
      "metadata": {
        "id": "xYgEew22f-ZH",
        "colab": {
          "base_uri": "https://localhost:8080/"
        },
        "outputId": "a2c259f1-26c1-4f69-bd0e-459e26f34123"
      },
      "outputs": [
        {
          "output_type": "stream",
          "name": "stderr",
          "text": [
            "/usr/local/lib/python3.7/dist-packages/torchvision/models/_utils.py:209: UserWarning: The parameter 'pretrained' is deprecated since 0.13 and will be removed in 0.15, please use 'weights' instead.\n",
            "  f\"The parameter '{pretrained_param}' is deprecated since 0.13 and will be removed in 0.15, \"\n",
            "/usr/local/lib/python3.7/dist-packages/torchvision/models/_utils.py:223: UserWarning: Arguments other than a weight enum or `None` for 'weights' are deprecated since 0.13 and will be removed in 0.15. The current behavior is equivalent to passing `weights=None`.\n",
            "  warnings.warn(msg)\n"
          ]
        }
      ],
      "source": [
        "resnet = torchvision.models.resnet18(pretrained=False)\n",
        "num_ftrs = resnet.fc.in_features\n",
        "# ResNet final fully connected layer\n",
        "resnet.fc = nn.Linear(num_ftrs, num_classes)\n",
        "resnet.to(DEVICE)\n",
        "optimizer = torch.optim.Adam(resnet.parameters(), lr=1e-4)\n",
        "loss_fn = nn.CrossEntropyLoss()"
      ]
    },
    {
      "cell_type": "code",
      "execution_count": null,
      "metadata": {
        "id": "DlThSGTIf-ZI",
        "outputId": "f9e853f1-eff2-4b24-b45c-7fc280328e20",
        "colab": {
          "base_uri": "https://localhost:8080/",
          "height": 312
        }
      },
      "outputs": [
        {
          "output_type": "display_data",
          "data": {
            "text/plain": [
              "<Figure size 432x288 with 1 Axes>"
            ],
            "image/png": "[encoded data removed]"
          },
          "metadata": {}
        },
        {
          "output_type": "stream",
          "name": "stderr",
          "text": [
            "100%|██████████| 50/50 [07:39<00:00,  9.18s/it]\n"
          ]
        }
      ],
      "source": [
        "# @title Train ResNet from scratch\n",
        "scratch_accs = []\n",
        "for epoch in tqdm.tqdm(range(50)):\n",
        "  # Train loop\n",
        "  for batch in train_dataloaders:\n",
        "    images, labels = batch\n",
        "    images = images.to(DEVICE)\n",
        "    labels = labels.to(DEVICE)\n",
        "\n",
        "    optimizer.zero_grad()\n",
        "    output = resnet(images)\n",
        "    loss = loss_fn(output, labels)\n",
        "    loss.backward()\n",
        "    optimizer.step()\n",
        "\n",
        "  # Eval loop\n",
        "  with torch.no_grad():\n",
        "    total = 0\n",
        "    correct = 0\n",
        "    total = len(val_dataloaders)\n",
        "    for batch in val_dataloaders:\n",
        "      images, labels = batch\n",
        "      images = images.to(DEVICE)\n",
        "      labels = labels.to(DEVICE)\n",
        "      output = resnet(images)\n",
        "      probs = torch.nn.Softmax(dim=1)(output)\n",
        "      predictions = torch.argmax(probs, dim=1)\n",
        "\n",
        "      correct += int(torch.sum(predictions == labels).cpu().detach().numpy())\n",
        "      total += len(labels)\n",
        "\n",
        "    accuracy = correct/total\n",
        "\n",
        "    scratch_accs.append(accuracy*100)\n",
        "    plt.plot(scratch_accs)\n",
        "    plt.xlabel('epoch')\n",
        "    plt.ylabel('accuracy')\n",
        "    plt.title('Tea Disease prediction accuracy')\n",
        "\n",
        "    IPython.display.clear_output(wait=True)\n",
        "    IPython.display.display(plt.gcf())\n",
        "  plt.close()"
      ]
    },
    {
      "cell_type": "code",
      "execution_count": null,
      "metadata": {
        "id": "l3gER45lf-ZI"
      },
      "outputs": [],
      "source": [
        "def test(dataloader, device):\n",
        "    '''Evaluate prediction accuracy on the test dataset.'''\n",
        "    nb_classes = 8\n",
        "    confusion_matrix = torch.zeros(nb_classes, nb_classes)\n",
        "    resnet.eval()\n",
        "    with torch.no_grad():\n",
        "        #dataloader = DataLoader(test_dataset, batch_size=32)\n",
        "        #accuracy = evaluate(dataloader, 'test', device)\n",
        "        correct, total = 0, 0\n",
        "        for x, y in tqdm.tqdm(dataloader, 'test'):\n",
        "            x, y = x.to(device), y.to(device)\n",
        "            logits = resnet(x)\n",
        "            probs = torch.nn.Softmax(dim=1)(logits)\n",
        "            predictions = torch.argmax(probs, dim=1)\n",
        "            #correct += int(torch.sum(predictions == y).cpu().detach().numpy())\n",
        "            #total += len(y)\n",
        "            for t, p in zip(y.view(-1), predictions.view(-1)):\n",
        "                confusion_matrix[t.long(), p.long()] += 1\n",
        "        #accuracy = correct/total\n",
        "        accuracy_per_class = confusion_matrix.diag()/confusion_matrix.sum(1)\n",
        "        accuracy_overall = confusion_matrix.diag().sum()/confusion_matrix.sum()\n",
        "    return confusion_matrix, accuracy_per_class*100, accuracy_overall*100"
      ]
    },
    {
      "cell_type": "code",
      "execution_count": null,
      "metadata": {
        "id": "uWFkXLxCf-ZJ",
        "outputId": "530a7e2b-acfc-4883-c636-dc246c9449e1",
        "colab": {
          "base_uri": "https://localhost:8080/"
        }
      },
      "outputs": [
        {
          "output_type": "stream",
          "name": "stderr",
          "text": [
            "test: 100%|██████████| 5/5 [01:27<00:00, 17.56s/it]"
          ]
        },
        {
          "output_type": "stream",
          "name": "stdout",
          "text": [
            "final test accuracy per class: tensor([ 31.5789,  86.6667,  91.6667,  95.4545,  80.0000, 100.0000, 100.0000,\n",
            "         63.1579])\n",
            "final test accuracy overall: 80.30303192138672\n",
            "tensor([[ 6.,  0.,  6.,  0.,  7.,  0.,  0.,  0.],\n",
            "        [ 0., 13.,  0.,  0.,  0.,  0.,  0.,  2.],\n",
            "        [ 1.,  0., 11.,  0.,  0.,  0.,  0.,  0.],\n",
            "        [ 0.,  0.,  0., 21.,  0.,  0.,  0.,  1.],\n",
            "        [ 0.,  0.,  2.,  0.,  8.,  0.,  0.,  0.],\n",
            "        [ 0.,  0.,  0.,  0.,  0., 14.,  0.,  0.],\n",
            "        [ 0.,  0.,  0.,  0.,  0.,  0., 21.,  0.],\n",
            "        [ 0.,  2.,  0.,  5.,  0.,  0.,  0., 12.]])\n"
          ]
        },
        {
          "output_type": "stream",
          "name": "stderr",
          "text": [
            "\n"
          ]
        }
      ],
      "source": [
        "confusion_matrix, accuracy_per_class, accuracy_overall = test(test_dataloaders, device=DEVICE)\n",
        "print(f\"final test accuracy per class: {accuracy_per_class}\")\n",
        "print(f\"final test accuracy overall: {accuracy_overall}\")\n",
        "print(confusion_matrix)"
      ]
    },
    {
      "cell_type": "code",
      "execution_count": null,
      "metadata": {
        "id": "hjG_-naGf-ZJ"
      },
      "outputs": [],
      "source": []
    }
  ],
  "metadata": {
    "kernelspec": {
      "display_name": "ls-without-tensorflow",
      "language": "python",
      "name": "ls-without-tensorflow"
    },
    "language_info": {
      "codemirror_mode": {
        "name": "ipython",
        "version": 3
      },
      "file_extension": ".py",
      "mimetype": "text/x-python",
      "name": "python",
      "nbconvert_exporter": "python",
      "pygments_lexer": "ipython3",
      "version": "3.8.10"
    },
    "colab": {
      "name": "prueba_resnet.ipynb",
      "provenance": [],
      "toc_visible": true
    },
    "accelerator": "GPU",
    "gpuClass": "standard"
  },
  "nbformat": 4,
  "nbformat_minor": 0
}